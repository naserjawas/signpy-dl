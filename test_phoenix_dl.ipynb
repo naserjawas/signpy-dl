{
  "nbformat": 4,
  "nbformat_minor": 0,
  "metadata": {
    "colab": {
      "provenance": [],
      "authorship_tag": "ABX9TyMhX6ZvIN98+VvsOxx9ae5h",
      "include_colab_link": true
    },
    "kernelspec": {
      "name": "python3",
      "display_name": "Python 3"
    },
    "language_info": {
      "name": "python"
    }
  },
  "cells": [
    {
      "cell_type": "markdown",
      "metadata": {
        "id": "view-in-github",
        "colab_type": "text"
      },
      "source": [
        "<a href=\"https://colab.research.google.com/github/naserjawas/signpy-dl/blob/main/test_phoenix_dl.ipynb\" target=\"_parent\"><img src=\"https://colab.research.google.com/assets/colab-badge.svg\" alt=\"Open In Colab\"/></a>"
      ]
    },
    {
      "cell_type": "code",
      "execution_count": null,
      "metadata": {
        "id": "0wRLJm47JIcI"
      },
      "outputs": [],
      "source": [
        "from torch.nn import Module\n",
        "from torch.nn import Conv2d\n",
        "from torch.nn import Linear\n",
        "from torch.nn import MaxPool2d\n",
        "from torch.nn import ReLU\n",
        "from torch.nn import LogSoftmax\n",
        "from torch import flatten"
      ]
    },
    {
      "cell_type": "code",
      "source": [
        "class LeNet(Module):\n",
        "    def __init__(self, numChannels, classes):\n",
        "        super(LeNet, self).__init__()\n",
        "\n",
        "        self.conv1 = Conv2d(in_channels=numChannels, out_channels=20,\n",
        "            kernel_size=(5, 5))\n",
        "        self.relu1 = ReLU()\n",
        "        self.maxpool1 = MaxPool2d(kernel_size=(2, 2), stride=(2, 2))\n",
        "\n",
        "        self.conv2 = Conv2d(in_channels=20, out_channels=50,\n",
        "            kernel_size=(5, 5))\n",
        "        self.relu2 = ReLU()\n",
        "        self.maxpool2 = MaxPool2d(kernel_size=(2, 2), stride=(2, 2))\n",
        "\n",
        "        self.fc1 = Linear(in_features=800, out_features=500)\n",
        "        self.relu3 = ReLU()\n",
        "\n",
        "        self.fc2 = Linear(in_features=500, out_features=classes)\n",
        "        self.LogSoftmax = LogSoftmax(dim=1)"
      ],
      "metadata": {
        "id": "8r0f1SB-Ncep"
      },
      "execution_count": null,
      "outputs": []
    }
  ]
}